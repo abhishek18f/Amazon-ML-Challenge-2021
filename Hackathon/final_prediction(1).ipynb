{
  "nbformat": 4,
  "nbformat_minor": 0,
  "metadata": {
    "kernelspec": {
      "language": "python",
      "display_name": "Python 3",
      "name": "python3"
    },
    "language_info": {
      "name": "python",
      "version": "3.7.10",
      "mimetype": "text/x-python",
      "codemirror_mode": {
        "name": "ipython",
        "version": 3
      },
      "pygments_lexer": "ipython3",
      "nbconvert_exporter": "python",
      "file_extension": ".py"
    },
    "colab": {
      "name": "final_prediction.ipynb",
      "provenance": []
    },
    "accelerator": "GPU",
    "widgets": {
      "application/vnd.jupyter.widget-state+json": {
        "08822900f73143bf989bc741b7d16d3a": {
          "model_module": "@jupyter-widgets/controls",
          "model_name": "HBoxModel",
          "model_module_version": "1.5.0",
          "state": {
            "_view_name": "HBoxView",
            "_dom_classes": [],
            "_model_name": "HBoxModel",
            "_view_module": "@jupyter-widgets/controls",
            "_model_module_version": "1.5.0",
            "_view_count": null,
            "_view_module_version": "1.5.0",
            "box_style": "",
            "layout": "IPY_MODEL_ceb16b474f504ec3a5c023926644fabe",
            "_model_module": "@jupyter-widgets/controls",
            "children": [
              "IPY_MODEL_d38cbc6efab54150bd2dd85006a91484",
              "IPY_MODEL_be2b3293cfdc4121ba30819bb2ba72bf"
            ]
          }
        },
        "ceb16b474f504ec3a5c023926644fabe": {
          "model_module": "@jupyter-widgets/base",
          "model_name": "LayoutModel",
          "model_module_version": "1.2.0",
          "state": {
            "_view_name": "LayoutView",
            "grid_template_rows": null,
            "right": null,
            "justify_content": null,
            "_view_module": "@jupyter-widgets/base",
            "overflow": null,
            "_model_module_version": "1.2.0",
            "_view_count": null,
            "flex_flow": null,
            "width": null,
            "min_width": null,
            "border": null,
            "align_items": null,
            "bottom": null,
            "_model_module": "@jupyter-widgets/base",
            "top": null,
            "grid_column": null,
            "overflow_y": null,
            "overflow_x": null,
            "grid_auto_flow": null,
            "grid_area": null,
            "grid_template_columns": null,
            "flex": null,
            "_model_name": "LayoutModel",
            "justify_items": null,
            "grid_row": null,
            "max_height": null,
            "align_content": null,
            "visibility": null,
            "align_self": null,
            "height": null,
            "min_height": null,
            "padding": null,
            "grid_auto_rows": null,
            "grid_gap": null,
            "max_width": null,
            "order": null,
            "_view_module_version": "1.2.0",
            "grid_template_areas": null,
            "object_position": null,
            "object_fit": null,
            "grid_auto_columns": null,
            "margin": null,
            "display": null,
            "left": null
          }
        },
        "d38cbc6efab54150bd2dd85006a91484": {
          "model_module": "@jupyter-widgets/controls",
          "model_name": "FloatProgressModel",
          "model_module_version": "1.5.0",
          "state": {
            "_view_name": "ProgressView",
            "style": "IPY_MODEL_478b578884504092909c2dc360a3d9b5",
            "_dom_classes": [],
            "description": "100%",
            "_model_name": "FloatProgressModel",
            "bar_style": "success",
            "max": 27694,
            "_view_module": "@jupyter-widgets/controls",
            "_model_module_version": "1.5.0",
            "value": 27694,
            "_view_count": null,
            "_view_module_version": "1.5.0",
            "orientation": "horizontal",
            "min": 0,
            "description_tooltip": null,
            "_model_module": "@jupyter-widgets/controls",
            "layout": "IPY_MODEL_c0c6783c78444ae59fc143a290a49700"
          }
        },
        "be2b3293cfdc4121ba30819bb2ba72bf": {
          "model_module": "@jupyter-widgets/controls",
          "model_name": "HTMLModel",
          "model_module_version": "1.5.0",
          "state": {
            "_view_name": "HTMLView",
            "style": "IPY_MODEL_265364e2770c4ca09f292ab82385a5d4",
            "_dom_classes": [],
            "description": "",
            "_model_name": "HTMLModel",
            "placeholder": "​",
            "_view_module": "@jupyter-widgets/controls",
            "_model_module_version": "1.5.0",
            "value": " 27694/27694 [1:38:03&lt;00:00,  4.71it/s]",
            "_view_count": null,
            "_view_module_version": "1.5.0",
            "description_tooltip": null,
            "_model_module": "@jupyter-widgets/controls",
            "layout": "IPY_MODEL_17109e98cb574e6e9ca43f158598f670"
          }
        },
        "478b578884504092909c2dc360a3d9b5": {
          "model_module": "@jupyter-widgets/controls",
          "model_name": "ProgressStyleModel",
          "model_module_version": "1.5.0",
          "state": {
            "_view_name": "StyleView",
            "_model_name": "ProgressStyleModel",
            "description_width": "initial",
            "_view_module": "@jupyter-widgets/base",
            "_model_module_version": "1.5.0",
            "_view_count": null,
            "_view_module_version": "1.2.0",
            "bar_color": null,
            "_model_module": "@jupyter-widgets/controls"
          }
        },
        "c0c6783c78444ae59fc143a290a49700": {
          "model_module": "@jupyter-widgets/base",
          "model_name": "LayoutModel",
          "model_module_version": "1.2.0",
          "state": {
            "_view_name": "LayoutView",
            "grid_template_rows": null,
            "right": null,
            "justify_content": null,
            "_view_module": "@jupyter-widgets/base",
            "overflow": null,
            "_model_module_version": "1.2.0",
            "_view_count": null,
            "flex_flow": null,
            "width": null,
            "min_width": null,
            "border": null,
            "align_items": null,
            "bottom": null,
            "_model_module": "@jupyter-widgets/base",
            "top": null,
            "grid_column": null,
            "overflow_y": null,
            "overflow_x": null,
            "grid_auto_flow": null,
            "grid_area": null,
            "grid_template_columns": null,
            "flex": null,
            "_model_name": "LayoutModel",
            "justify_items": null,
            "grid_row": null,
            "max_height": null,
            "align_content": null,
            "visibility": null,
            "align_self": null,
            "height": null,
            "min_height": null,
            "padding": null,
            "grid_auto_rows": null,
            "grid_gap": null,
            "max_width": null,
            "order": null,
            "_view_module_version": "1.2.0",
            "grid_template_areas": null,
            "object_position": null,
            "object_fit": null,
            "grid_auto_columns": null,
            "margin": null,
            "display": null,
            "left": null
          }
        },
        "265364e2770c4ca09f292ab82385a5d4": {
          "model_module": "@jupyter-widgets/controls",
          "model_name": "DescriptionStyleModel",
          "model_module_version": "1.5.0",
          "state": {
            "_view_name": "StyleView",
            "_model_name": "DescriptionStyleModel",
            "description_width": "",
            "_view_module": "@jupyter-widgets/base",
            "_model_module_version": "1.5.0",
            "_view_count": null,
            "_view_module_version": "1.2.0",
            "_model_module": "@jupyter-widgets/controls"
          }
        },
        "17109e98cb574e6e9ca43f158598f670": {
          "model_module": "@jupyter-widgets/base",
          "model_name": "LayoutModel",
          "model_module_version": "1.2.0",
          "state": {
            "_view_name": "LayoutView",
            "grid_template_rows": null,
            "right": null,
            "justify_content": null,
            "_view_module": "@jupyter-widgets/base",
            "overflow": null,
            "_model_module_version": "1.2.0",
            "_view_count": null,
            "flex_flow": null,
            "width": null,
            "min_width": null,
            "border": null,
            "align_items": null,
            "bottom": null,
            "_model_module": "@jupyter-widgets/base",
            "top": null,
            "grid_column": null,
            "overflow_y": null,
            "overflow_x": null,
            "grid_auto_flow": null,
            "grid_area": null,
            "grid_template_columns": null,
            "flex": null,
            "_model_name": "LayoutModel",
            "justify_items": null,
            "grid_row": null,
            "max_height": null,
            "align_content": null,
            "visibility": null,
            "align_self": null,
            "height": null,
            "min_height": null,
            "padding": null,
            "grid_auto_rows": null,
            "grid_gap": null,
            "max_width": null,
            "order": null,
            "_view_module_version": "1.2.0",
            "grid_template_areas": null,
            "object_position": null,
            "object_fit": null,
            "grid_auto_columns": null,
            "margin": null,
            "display": null,
            "left": null
          }
        }
      }
    }
  },
  "cells": [
    {
      "cell_type": "code",
      "metadata": {
        "_uuid": "8f2839f25d086af736a60e9eeb907d3b93b6e0e5",
        "_cell_guid": "b1076dfc-b9ad-4769-8c92-a6c4dae69d19",
        "execution": {
          "iopub.status.busy": "2021-07-30T18:53:58.278089Z",
          "iopub.execute_input": "2021-07-30T18:53:58.278549Z",
          "iopub.status.idle": "2021-07-30T18:55:54.814262Z",
          "shell.execute_reply.started": "2021-07-30T18:53:58.278513Z",
          "shell.execute_reply": "2021-07-30T18:55:54.813173Z"
        },
        "trusted": true,
        "id": "-atlTluyzbRY"
      },
      "source": [
        "from google.colab import drive\n",
        "drive.mount('/gdrive')"
      ],
      "execution_count": null,
      "outputs": []
    },
    {
      "cell_type": "code",
      "metadata": {
        "id": "5kbLham4z6RW",
        "colab": {
          "base_uri": "https://localhost:8080/"
        },
        "outputId": "e6036288-a336-4e7c-be13-2f5721384274"
      },
      "source": [
        "!pip install transformers\n"
      ],
      "execution_count": null,
      "outputs": [
        {
          "output_type": "stream",
          "text": [
            "Collecting transformers\n",
            "  Downloading transformers-4.9.1-py3-none-any.whl (2.6 MB)\n",
            "\u001b[K     |████████████████████████████████| 2.6 MB 6.3 MB/s \n",
            "\u001b[?25hRequirement already satisfied: requests in /usr/local/lib/python3.7/dist-packages (from transformers) (2.23.0)\n",
            "Requirement already satisfied: filelock in /usr/local/lib/python3.7/dist-packages (from transformers) (3.0.12)\n",
            "Requirement already satisfied: numpy>=1.17 in /usr/local/lib/python3.7/dist-packages (from transformers) (1.19.5)\n",
            "Requirement already satisfied: packaging in /usr/local/lib/python3.7/dist-packages (from transformers) (21.0)\n",
            "Collecting huggingface-hub==0.0.12\n",
            "  Downloading huggingface_hub-0.0.12-py3-none-any.whl (37 kB)\n",
            "Collecting sacremoses\n",
            "  Downloading sacremoses-0.0.45-py3-none-any.whl (895 kB)\n",
            "\u001b[K     |████████████████████████████████| 895 kB 54.3 MB/s \n",
            "\u001b[?25hRequirement already satisfied: importlib-metadata in /usr/local/lib/python3.7/dist-packages (from transformers) (4.6.1)\n",
            "Requirement already satisfied: tqdm>=4.27 in /usr/local/lib/python3.7/dist-packages (from transformers) (4.41.1)\n",
            "Collecting pyyaml>=5.1\n",
            "  Downloading PyYAML-5.4.1-cp37-cp37m-manylinux1_x86_64.whl (636 kB)\n",
            "\u001b[K     |████████████████████████████████| 636 kB 73.8 MB/s \n",
            "\u001b[?25hCollecting tokenizers<0.11,>=0.10.1\n",
            "  Downloading tokenizers-0.10.3-cp37-cp37m-manylinux_2_5_x86_64.manylinux1_x86_64.manylinux_2_12_x86_64.manylinux2010_x86_64.whl (3.3 MB)\n",
            "\u001b[K     |████████████████████████████████| 3.3 MB 53.8 MB/s \n",
            "\u001b[?25hRequirement already satisfied: regex!=2019.12.17 in /usr/local/lib/python3.7/dist-packages (from transformers) (2019.12.20)\n",
            "Requirement already satisfied: typing-extensions in /usr/local/lib/python3.7/dist-packages (from huggingface-hub==0.0.12->transformers) (3.7.4.3)\n",
            "Requirement already satisfied: pyparsing>=2.0.2 in /usr/local/lib/python3.7/dist-packages (from packaging->transformers) (2.4.7)\n",
            "Requirement already satisfied: zipp>=0.5 in /usr/local/lib/python3.7/dist-packages (from importlib-metadata->transformers) (3.5.0)\n",
            "Requirement already satisfied: certifi>=2017.4.17 in /usr/local/lib/python3.7/dist-packages (from requests->transformers) (2021.5.30)\n",
            "Requirement already satisfied: urllib3!=1.25.0,!=1.25.1,<1.26,>=1.21.1 in /usr/local/lib/python3.7/dist-packages (from requests->transformers) (1.24.3)\n",
            "Requirement already satisfied: chardet<4,>=3.0.2 in /usr/local/lib/python3.7/dist-packages (from requests->transformers) (3.0.4)\n",
            "Requirement already satisfied: idna<3,>=2.5 in /usr/local/lib/python3.7/dist-packages (from requests->transformers) (2.10)\n",
            "Requirement already satisfied: click in /usr/local/lib/python3.7/dist-packages (from sacremoses->transformers) (7.1.2)\n",
            "Requirement already satisfied: joblib in /usr/local/lib/python3.7/dist-packages (from sacremoses->transformers) (1.0.1)\n",
            "Requirement already satisfied: six in /usr/local/lib/python3.7/dist-packages (from sacremoses->transformers) (1.15.0)\n",
            "Installing collected packages: tokenizers, sacremoses, pyyaml, huggingface-hub, transformers\n",
            "  Attempting uninstall: pyyaml\n",
            "    Found existing installation: PyYAML 3.13\n",
            "    Uninstalling PyYAML-3.13:\n",
            "      Successfully uninstalled PyYAML-3.13\n",
            "Successfully installed huggingface-hub-0.0.12 pyyaml-5.4.1 sacremoses-0.0.45 tokenizers-0.10.3 transformers-4.9.1\n"
          ],
          "name": "stdout"
        }
      ]
    },
    {
      "cell_type": "code",
      "metadata": {
        "execution": {
          "iopub.status.busy": "2021-07-30T18:55:54.815913Z",
          "iopub.execute_input": "2021-07-30T18:55:54.816246Z",
          "iopub.status.idle": "2021-07-30T18:55:57.384973Z",
          "shell.execute_reply.started": "2021-07-30T18:55:54.816209Z",
          "shell.execute_reply": "2021-07-30T18:55:57.384174Z"
        },
        "trusted": true,
        "id": "wTOW5lw2zbRg"
      },
      "source": [
        "# imports\n",
        "import os\n",
        "import numpy as np\n",
        "import pandas as pd\n",
        "import csv\n",
        "from tqdm.notebook import tqdm\n",
        "import re\n",
        "import time\n",
        "import joblib\n",
        "\n",
        "import torch\n",
        "import transformers"
      ],
      "execution_count": null,
      "outputs": []
    },
    {
      "cell_type": "code",
      "metadata": {
        "execution": {
          "iopub.status.busy": "2021-07-30T18:55:57.386750Z",
          "iopub.execute_input": "2021-07-30T18:55:57.387069Z",
          "iopub.status.idle": "2021-07-30T18:56:05.549258Z",
          "shell.execute_reply.started": "2021-07-30T18:55:57.387037Z",
          "shell.execute_reply": "2021-07-30T18:56:05.548392Z"
        },
        "trusted": true,
        "id": "Qe8laXtTzbRi"
      },
      "source": [
        "#configurations\n",
        "MAX_LEN = 512\n",
        "TRAIN_BATCH_SIZE = 8\n",
        "VALIDATION_BATCH_SIZE = 4\n",
        "EPOCHS = 1\n",
        "ACCUMULATION = 2\n",
        "BERT_PATH = \"/gdrive/MyDrive/BERT-uncased\"\n",
        "MODEL_PATH = \"/gdrive/MyDrive/BERT-uncased\"\n",
        "# OUTPUT_PATH = \"/gdrive/MyDrive/amazon_ml_2021/checkpoint1(1).pt\"\n",
        "OUTPUT_PATH = \"/gdrive/MyDrive/amazon_ml_2021/cleaned/checkpoint_clean1.pt\"\n",
        "# TRAINING_FILE = \"/content/dataset/train.csv\"\n",
        "TOKENIZER = transformers.BertTokenizer.from_pretrained(\n",
        "    BERT_PATH, \n",
        "    do_lower_case = True\n",
        ")"
      ],
      "execution_count": null,
      "outputs": []
    },
    {
      "cell_type": "code",
      "metadata": {
        "execution": {
          "iopub.status.busy": "2021-07-30T18:56:05.550750Z",
          "iopub.execute_input": "2021-07-30T18:56:05.551065Z",
          "iopub.status.idle": "2021-07-30T18:56:08.743669Z",
          "shell.execute_reply.started": "2021-07-30T18:56:05.551032Z",
          "shell.execute_reply": "2021-07-30T18:56:08.742716Z"
        },
        "trusted": true,
        "id": "6NeYrDF6zbRk"
      },
      "source": [
        "#data_loader\n",
        "\n",
        "#https://pytorch.org/tutorials/beginner/basics/data_tutorial.html\n",
        "class BERTDataset:\n",
        "    def __init__(self , sentence , product_id):\n",
        "        \"\"\"\n",
        "            sentence : list of strings(sentences)\n",
        "            target : list of ints\n",
        "        \"\"\"\n",
        "        self.sentence = sentence\n",
        "        # self.target = target\n",
        "        self.tokenizer = TOKENIZER\n",
        "        self.max_len = MAX_LEN\n",
        "        self.product_id = product_id\n",
        "\n",
        "    #total len of dataset\n",
        "    def __len__(self):\n",
        "        return len(self.sentence)\n",
        "\n",
        "    def __getitem__(self , idx):\n",
        "        sentence = str(self.sentence[idx])   #just to make sure everything is string and not ints or UTF\n",
        "        sentence = \" \".join(sentence.split())\n",
        "\n",
        "        #tokeizing the sentences\n",
        "        inputs = self.tokenizer.encode_plus(\n",
        "            text = sentence,\n",
        "            add_special_tokens = True,\n",
        "            max_length = self.max_len,\n",
        "            padding='max_length',\n",
        "            truncation = True\n",
        "            # return_attention_mask = True\n",
        "        )\n",
        "\n",
        "        ids = inputs[\"input_ids\"]\n",
        "        mask = inputs[\"attention_mask\"]\n",
        "        # print(f\"inputs {len(ids) } , mask {len(mask)}  len {len(sentence.split())}  target {self.target[idx]}\")\n",
        "\n",
        "        return {\n",
        "            'ids' : torch.tensor(ids  , dtype = torch.long),\n",
        "            'mask' : torch.tensor(mask , dtype = torch.long),\n",
        "            # 'targets' : torch.tensor(self.target[idx] , dtype = torch.long),\n",
        "            'product_ids' : torch.tensor(self.product_id[idx] , dtype = torch.long)\n",
        "        }\n",
        "\n",
        "        \n"
      ],
      "execution_count": null,
      "outputs": []
    },
    {
      "cell_type": "code",
      "metadata": {
        "execution": {
          "iopub.status.busy": "2021-07-30T18:56:08.745012Z",
          "iopub.execute_input": "2021-07-30T18:56:08.745505Z",
          "iopub.status.idle": "2021-07-30T18:56:09.291849Z",
          "shell.execute_reply.started": "2021-07-30T18:56:08.745468Z",
          "shell.execute_reply": "2021-07-30T18:56:09.290599Z"
        },
        "trusted": true,
        "id": "cNF3_UXizbRm"
      },
      "source": [
        "#model\n",
        "# import transformers\n",
        "import torch.nn as nn\n",
        "\n",
        "class BERTBaseUncased(nn.Module):\n",
        "    def __init__(self, target_size):\n",
        "        super(BERTBaseUncased, self).__init__()\n",
        "        self.bert = transformers.BertModel.from_pretrained(BERT_PATH)\n",
        "        self.bert_drop = nn.Dropout(p = 0.3)\n",
        "        self.out = nn.Linear(768 , target_size)   #change 1 to number of intnents and also add actication functions\n",
        "        self.soft = nn.Softmax()\n",
        "\n",
        "    def forward(self, ids , mask):\n",
        "        #out1 = (batch_size, sequence_length, 786) – Sequence of hidden-states at the output of the last layer of the model.\n",
        "        #out2 = (batch_size, 786) – Last layer hidden-state of the first token of the sequence (classification token) (?? not sure what this is)\n",
        "        #                         – Gives a vector of size 768 for each sample in batch\n",
        "        #https://huggingface.co/transformers/model_doc/bert.html#bertmodel\n",
        "        _ , out2 = self.bert(\n",
        "            input_ids = ids,\n",
        "            attention_mask = mask,\n",
        "            return_dict=False\n",
        "            # token_type_ids = token_type_ids     #not sure if it's necessary for this task\n",
        "        )\n",
        "\n",
        "        bert_output = self.bert_drop(out2)\n",
        "        output = self.out(bert_output)\n",
        "        # soft_out = self.soft(output)\n",
        "        return output "
      ],
      "execution_count": null,
      "outputs": []
    },
    {
      "cell_type": "code",
      "metadata": {
        "execution": {
          "iopub.status.busy": "2021-07-30T18:56:09.293568Z",
          "iopub.execute_input": "2021-07-30T18:56:09.293912Z",
          "iopub.status.idle": "2021-07-30T18:56:09.312399Z",
          "shell.execute_reply.started": "2021-07-30T18:56:09.293877Z",
          "shell.execute_reply": "2021-07-30T18:56:09.311607Z"
        },
        "trusted": true,
        "id": "0J40_ClRzbRn"
      },
      "source": [
        "#engine\n",
        "# !pip install tqdm \n",
        "from tqdm.notebook import tqdm\n",
        "\n",
        "def loss_fn(outputs , targets):\n",
        "    # print(\"outputs : \" , outputs)\n",
        "    # print(\"targets : \", targets)\n",
        "    return nn.CrossEntropyLoss()(outputs , targets)\n",
        "\n",
        "\n",
        "def test_fn(data_loader , model, device):\n",
        "    model.eval()\n",
        "    # final_targets = []\n",
        "    final_outputs = []\n",
        "    final_product_ids = []\n",
        "    # final_loss = 0\n",
        "    \n",
        "    #loop through each batch\n",
        "    with torch.no_grad():   #??\n",
        "        for batch_index , data_batch in tqdm(enumerate(data_loader) , total = len(data_loader)):\n",
        "            ids = data_batch['ids']\n",
        "            mask =  data_batch['mask']\n",
        "            # targets = data_batch['targets']\n",
        "            product_ids = data_batch['product_ids']\n",
        "\n",
        "            ids = ids.to(device, dtype = torch.long)\n",
        "            mask = mask.to(device, dtype = torch.long)\n",
        "            # targets = targets.to(device, dtype = torch.long)\n",
        "            product_ids = product_ids.to(device, dtype = torch.long)\n",
        "\n",
        "            outputs = model(\n",
        "                ids = ids,\n",
        "                mask = mask\n",
        "            )\n",
        "            \n",
        "            # loss = loss_fn(outputs, targets)\n",
        "            # final_loss += loss.item()\n",
        "            \n",
        "            # print(\"eval output\" , outputs)\n",
        "            final_product_ids.extend(product_ids.cpu().detach().numpy().tolist())\n",
        "            # final_targets.extend(targets.cpu().detach().numpy().tolist())\n",
        "            final_outputs.extend(outputs.cpu().detach().numpy().argmax(axis = 1).tolist())    #change this in case of multiple outputs\n",
        "\n",
        "    return final_outputs, final_product_ids"
      ],
      "execution_count": null,
      "outputs": []
    },
    {
      "cell_type": "code",
      "metadata": {
        "id": "U48Fabyb8G7t"
      },
      "source": [
        "#train\n",
        "import pandas as pd\n",
        "from sklearn import model_selection\n",
        "from sklearn import metrics\n",
        "from transformers import AdamW\n",
        "from sklearn.preprocessing import LabelEncoder\n",
        "from transformers import get_linear_schedule_with_warmup\n",
        "import csv\n",
        "import datetime\n",
        "\n",
        "def format_time(elapsed):\n",
        "    elapsed_rounded = int(round((elapsed)))\n",
        "    return str(datetime.timedelta(seconds=elapsed_rounded))\n",
        "\n",
        "# train_set = pd.read_pickle('/gdrive/MyDrive/amazon_ml_2021/df_sixM')\n",
        "\n",
        "# test_set =  pd.read_pickle('/gdrive/MyDrive/amazon_ml_2021/test_data')\n",
        "# decoder = joblib.load('/gdrive/MyDrive/amazon_ml_2021/decoder(5).joblib')\n",
        "\n",
        "test_set =  pd.read_pickle('/gdrive/MyDrive/amazon_ml_2021/cleaned/test_clean')\n",
        "decoder = joblib.load('/gdrive/MyDrive/amazon_ml_2021/cleaned/decoder_cleaned.joblib')\n"
      ],
      "execution_count": null,
      "outputs": []
    },
    {
      "cell_type": "code",
      "metadata": {
        "id": "cm8-o4Rx8rp5"
      },
      "source": [
        "# train_set['ID'] = train_set.index"
      ],
      "execution_count": null,
      "outputs": []
    },
    {
      "cell_type": "code",
      "metadata": {
        "colab": {
          "base_uri": "https://localhost:8080/",
          "height": 206
        },
        "id": "ilfMmlTPIFbh",
        "outputId": "8d136191-78aa-4c7e-bf46-2c074e204760"
      },
      "source": [
        "test_set.head()"
      ],
      "execution_count": null,
      "outputs": [
        {
          "output_type": "execute_result",
          "data": {
            "text/html": [
              "<div>\n",
              "<style scoped>\n",
              "    .dataframe tbody tr th:only-of-type {\n",
              "        vertical-align: middle;\n",
              "    }\n",
              "\n",
              "    .dataframe tbody tr th {\n",
              "        vertical-align: top;\n",
              "    }\n",
              "\n",
              "    .dataframe thead th {\n",
              "        text-align: right;\n",
              "    }\n",
              "</style>\n",
              "<table border=\"1\" class=\"dataframe\">\n",
              "  <thead>\n",
              "    <tr style=\"text-align: right;\">\n",
              "      <th></th>\n",
              "      <th>PRODUCT_ID</th>\n",
              "      <th>text</th>\n",
              "    </tr>\n",
              "  </thead>\n",
              "  <tbody>\n",
              "    <tr>\n",
              "      <th>0</th>\n",
              "      <td>1</td>\n",
              "      <td>command m small kitchen hook white decorate da...</td>\n",
              "    </tr>\n",
              "    <tr>\n",
              "      <th>1</th>\n",
              "      <td>2</td>\n",
              "      <td>oneal jump hardware jag unisexadult glove blac...</td>\n",
              "    </tr>\n",
              "    <tr>\n",
              "      <th>2</th>\n",
              "      <td>3</td>\n",
              "      <td>nfl detroit lion portable party fridge  quart ...</td>\n",
              "    </tr>\n",
              "    <tr>\n",
              "      <th>3</th>\n",
              "      <td>4</td>\n",
              "      <td>panasonic single line kxtsmx corded phone whit...</td>\n",
              "    </tr>\n",
              "    <tr>\n",
              "      <th>4</th>\n",
              "      <td>5</td>\n",
              "      <td>zero baby girl  cotton innerwear bloomer drawe...</td>\n",
              "    </tr>\n",
              "  </tbody>\n",
              "</table>\n",
              "</div>"
            ],
            "text/plain": [
              "   PRODUCT_ID                                               text\n",
              "0           1  command m small kitchen hook white decorate da...\n",
              "1           2  oneal jump hardware jag unisexadult glove blac...\n",
              "2           3  nfl detroit lion portable party fridge  quart ...\n",
              "3           4  panasonic single line kxtsmx corded phone whit...\n",
              "4           5  zero baby girl  cotton innerwear bloomer drawe..."
            ]
          },
          "metadata": {
            "tags": []
          },
          "execution_count": 10
        }
      ]
    },
    {
      "cell_type": "code",
      "metadata": {
        "id": "Y2k5hsst89Oe"
      },
      "source": [
        "# #run on valid set\n",
        "# _ , valid_set = model_selection.train_test_split(\n",
        "#         train_set,\n",
        "#         test_size = 0.05,\n",
        "#         random_state = 899,\n",
        "#         stratify = train_set.BROWSE_NODE_ID.values\n",
        "#     )"
      ],
      "execution_count": null,
      "outputs": []
    },
    {
      "cell_type": "code",
      "metadata": {
        "id": "Ed7Dw-wM9h8x"
      },
      "source": [
        "def test(df_valid , num_class):\n",
        "    df_valid = df_valid.reset_index(drop = True)\n",
        "\n",
        "    valid_dataset = BERTDataset(\n",
        "        sentence = df_valid.text.values , \n",
        "        product_id = df_valid.PRODUCT_ID.values\n",
        "    )\n",
        "\n",
        "    valid_data_loader = torch.utils.data.DataLoader(\n",
        "        valid_dataset ,\n",
        "        batch_size = VALIDATION_BATCH_SIZE, \n",
        "        num_workers = 1\n",
        "    )\n",
        "    \n",
        "    if torch.cuda.is_available():\n",
        "        device = torch.device(\"cuda\")\n",
        "        print(\"There are %s GPU's.\" %torch.cuda.device_count())\n",
        "        print(\"GPU Name: \" , torch.cuda.get_device_name(0))\n",
        "\n",
        "    else:\n",
        "        print(\"No GPU's Available :(\")\n",
        "        decive = torch.device(\"cpu\")\n",
        "    \n",
        "    model = BERTBaseUncased(num_classes)\n",
        "    model.to(device)\n",
        "    \n",
        "    print(\"Loading Model...\")\n",
        "    checkpoint = torch.load(OUTPUT_PATH)\n",
        "    model.load_state_dict(checkpoint['model_state_dict'])\n",
        "    # optimizer.load_state_dict(checkpoint['optimizer_state_dict'])\n",
        "    print(\"Model Loaded...\")\n",
        "\n",
        "    print(\"\")\n",
        "    print(\"Running Test...\")\n",
        "    t0 = time.time()\n",
        "        \n",
        "        \n",
        "    outputs , final_product_ids = test_fn(valid_data_loader , model, device )\n",
        "        \n",
        "    validation_time = format_time(time.time() - t0)\n",
        "    print(\"  Validation took: {:}\".format(validation_time))\n",
        "\n",
        "    return outputs , final_product_ids\n"
      ],
      "execution_count": null,
      "outputs": []
    },
    {
      "cell_type": "code",
      "metadata": {
        "colab": {
          "base_uri": "https://localhost:8080/",
          "height": 260,
          "referenced_widgets": [
            "08822900f73143bf989bc741b7d16d3a",
            "ceb16b474f504ec3a5c023926644fabe",
            "d38cbc6efab54150bd2dd85006a91484",
            "be2b3293cfdc4121ba30819bb2ba72bf",
            "478b578884504092909c2dc360a3d9b5",
            "c0c6783c78444ae59fc143a290a49700",
            "265364e2770c4ca09f292ab82385a5d4",
            "17109e98cb574e6e9ca43f158598f670"
          ]
        },
        "id": "zeuZGcqD-O7R",
        "outputId": "3c205fcd-3cdc-4878-f277-4b03b928e1d8"
      },
      "source": [
        "num_classes = len(decoder)\n",
        "outputs , product_ids =  test(test_set , num_classes)"
      ],
      "execution_count": null,
      "outputs": [
        {
          "output_type": "stream",
          "text": [
            "There are 1 GPU's.\n",
            "GPU Name:  Tesla T4\n"
          ],
          "name": "stdout"
        },
        {
          "output_type": "stream",
          "text": [
            "Some weights of the model checkpoint at /gdrive/MyDrive/BERT-uncased were not used when initializing BertModel: ['cls.predictions.decoder.weight', 'cls.predictions.transform.LayerNorm.weight', 'cls.seq_relationship.bias', 'cls.predictions.transform.dense.weight', 'cls.predictions.transform.LayerNorm.bias', 'cls.predictions.transform.dense.bias', 'cls.predictions.bias', 'cls.seq_relationship.weight']\n",
            "- This IS expected if you are initializing BertModel from the checkpoint of a model trained on another task or with another architecture (e.g. initializing a BertForSequenceClassification model from a BertForPreTraining model).\n",
            "- This IS NOT expected if you are initializing BertModel from the checkpoint of a model that you expect to be exactly identical (initializing a BertForSequenceClassification model from a BertForSequenceClassification model).\n"
          ],
          "name": "stderr"
        },
        {
          "output_type": "stream",
          "text": [
            "Loading Model...\n",
            "Model Loaded...\n",
            "\n",
            "Running Test...\n"
          ],
          "name": "stdout"
        },
        {
          "output_type": "display_data",
          "data": {
            "application/vnd.jupyter.widget-view+json": {
              "model_id": "08822900f73143bf989bc741b7d16d3a",
              "version_major": 2,
              "version_minor": 0
            },
            "text/plain": [
              "HBox(children=(FloatProgress(value=0.0, max=27694.0), HTML(value='')))"
            ]
          },
          "metadata": {
            "tags": []
          }
        },
        {
          "output_type": "stream",
          "text": [
            "\n",
            "  Validation took: 1:14:56\n"
          ],
          "name": "stdout"
        }
      ]
    },
    {
      "cell_type": "code",
      "metadata": {
        "colab": {
          "base_uri": "https://localhost:8080/",
          "height": 206
        },
        "id": "BBRZj3Ddd8MK",
        "outputId": "6bce7c1d-c61a-4d57-e1f6-f040deabf355"
      },
      "source": [
        "final_df = pd.DataFrame({'PRODUCT_ID' : product_ids , 'output' : outputs} , columns = ['PRODUCT_ID' , 'output'])\n",
        "final_df.head()"
      ],
      "execution_count": null,
      "outputs": [
        {
          "output_type": "execute_result",
          "data": {
            "text/html": [
              "<div>\n",
              "<style scoped>\n",
              "    .dataframe tbody tr th:only-of-type {\n",
              "        vertical-align: middle;\n",
              "    }\n",
              "\n",
              "    .dataframe tbody tr th {\n",
              "        vertical-align: top;\n",
              "    }\n",
              "\n",
              "    .dataframe thead th {\n",
              "        text-align: right;\n",
              "    }\n",
              "</style>\n",
              "<table border=\"1\" class=\"dataframe\">\n",
              "  <thead>\n",
              "    <tr style=\"text-align: right;\">\n",
              "      <th></th>\n",
              "      <th>PRODUCT_ID</th>\n",
              "      <th>output</th>\n",
              "    </tr>\n",
              "  </thead>\n",
              "  <tbody>\n",
              "    <tr>\n",
              "      <th>0</th>\n",
              "      <td>1</td>\n",
              "      <td>328</td>\n",
              "    </tr>\n",
              "    <tr>\n",
              "      <th>1</th>\n",
              "      <td>2</td>\n",
              "      <td>534</td>\n",
              "    </tr>\n",
              "    <tr>\n",
              "      <th>2</th>\n",
              "      <td>3</td>\n",
              "      <td>250</td>\n",
              "    </tr>\n",
              "    <tr>\n",
              "      <th>3</th>\n",
              "      <td>4</td>\n",
              "      <td>180</td>\n",
              "    </tr>\n",
              "    <tr>\n",
              "      <th>4</th>\n",
              "      <td>5</td>\n",
              "      <td>778</td>\n",
              "    </tr>\n",
              "  </tbody>\n",
              "</table>\n",
              "</div>"
            ],
            "text/plain": [
              "   PRODUCT_ID  output\n",
              "0           1     328\n",
              "1           2     534\n",
              "2           3     250\n",
              "3           4     180\n",
              "4           5     778"
            ]
          },
          "metadata": {
            "tags": []
          },
          "execution_count": 14
        }
      ]
    },
    {
      "cell_type": "code",
      "metadata": {
        "id": "anCCmBcQff1m"
      },
      "source": [
        "decoded_outputs = [decoder[output] for output in outputs]"
      ],
      "execution_count": null,
      "outputs": []
    },
    {
      "cell_type": "code",
      "metadata": {
        "colab": {
          "base_uri": "https://localhost:8080/"
        },
        "id": "-smWHhBwf6Pl",
        "outputId": "ea9195e4-e558-43be-9d3c-35bf3d82a1fb"
      },
      "source": [
        "print(decoded_outputs[:5])\n",
        "print(outputs[:5])"
      ],
      "execution_count": null,
      "outputs": [
        {
          "output_type": "stream",
          "text": [
            "[1140, 2321, 840, 604, 7644]\n",
            "[328, 534, 250, 180, 778]\n"
          ],
          "name": "stdout"
        }
      ]
    },
    {
      "cell_type": "code",
      "metadata": {
        "colab": {
          "base_uri": "https://localhost:8080/",
          "height": 206
        },
        "id": "G62DgzGhgDzv",
        "outputId": "8f252478-1223-459a-dfc4-5ade604760a6"
      },
      "source": [
        "final_df['BROWSE_NODE_ID'] = decoded_outputs\n",
        "final_df.head()"
      ],
      "execution_count": null,
      "outputs": [
        {
          "output_type": "execute_result",
          "data": {
            "text/html": [
              "<div>\n",
              "<style scoped>\n",
              "    .dataframe tbody tr th:only-of-type {\n",
              "        vertical-align: middle;\n",
              "    }\n",
              "\n",
              "    .dataframe tbody tr th {\n",
              "        vertical-align: top;\n",
              "    }\n",
              "\n",
              "    .dataframe thead th {\n",
              "        text-align: right;\n",
              "    }\n",
              "</style>\n",
              "<table border=\"1\" class=\"dataframe\">\n",
              "  <thead>\n",
              "    <tr style=\"text-align: right;\">\n",
              "      <th></th>\n",
              "      <th>PRODUCT_ID</th>\n",
              "      <th>output</th>\n",
              "      <th>BROWSE_NODE_ID</th>\n",
              "    </tr>\n",
              "  </thead>\n",
              "  <tbody>\n",
              "    <tr>\n",
              "      <th>0</th>\n",
              "      <td>1</td>\n",
              "      <td>328</td>\n",
              "      <td>1140</td>\n",
              "    </tr>\n",
              "    <tr>\n",
              "      <th>1</th>\n",
              "      <td>2</td>\n",
              "      <td>534</td>\n",
              "      <td>2321</td>\n",
              "    </tr>\n",
              "    <tr>\n",
              "      <th>2</th>\n",
              "      <td>3</td>\n",
              "      <td>250</td>\n",
              "      <td>840</td>\n",
              "    </tr>\n",
              "    <tr>\n",
              "      <th>3</th>\n",
              "      <td>4</td>\n",
              "      <td>180</td>\n",
              "      <td>604</td>\n",
              "    </tr>\n",
              "    <tr>\n",
              "      <th>4</th>\n",
              "      <td>5</td>\n",
              "      <td>778</td>\n",
              "      <td>7644</td>\n",
              "    </tr>\n",
              "  </tbody>\n",
              "</table>\n",
              "</div>"
            ],
            "text/plain": [
              "   PRODUCT_ID  output  BROWSE_NODE_ID\n",
              "0           1     328            1140\n",
              "1           2     534            2321\n",
              "2           3     250             840\n",
              "3           4     180             604\n",
              "4           5     778            7644"
            ]
          },
          "metadata": {
            "tags": []
          },
          "execution_count": 17
        }
      ]
    },
    {
      "cell_type": "code",
      "metadata": {
        "colab": {
          "base_uri": "https://localhost:8080/",
          "height": 206
        },
        "id": "89Q0wXYcgYBL",
        "outputId": "83b3d768-8189-4f62-f328-5950356095ca"
      },
      "source": [
        "final_df.drop('output' , axis = 1 , inplace= True)\n",
        "final_df.head()"
      ],
      "execution_count": null,
      "outputs": [
        {
          "output_type": "execute_result",
          "data": {
            "text/html": [
              "<div>\n",
              "<style scoped>\n",
              "    .dataframe tbody tr th:only-of-type {\n",
              "        vertical-align: middle;\n",
              "    }\n",
              "\n",
              "    .dataframe tbody tr th {\n",
              "        vertical-align: top;\n",
              "    }\n",
              "\n",
              "    .dataframe thead th {\n",
              "        text-align: right;\n",
              "    }\n",
              "</style>\n",
              "<table border=\"1\" class=\"dataframe\">\n",
              "  <thead>\n",
              "    <tr style=\"text-align: right;\">\n",
              "      <th></th>\n",
              "      <th>PRODUCT_ID</th>\n",
              "      <th>BROWSE_NODE_ID</th>\n",
              "    </tr>\n",
              "  </thead>\n",
              "  <tbody>\n",
              "    <tr>\n",
              "      <th>0</th>\n",
              "      <td>1</td>\n",
              "      <td>1140</td>\n",
              "    </tr>\n",
              "    <tr>\n",
              "      <th>1</th>\n",
              "      <td>2</td>\n",
              "      <td>2321</td>\n",
              "    </tr>\n",
              "    <tr>\n",
              "      <th>2</th>\n",
              "      <td>3</td>\n",
              "      <td>840</td>\n",
              "    </tr>\n",
              "    <tr>\n",
              "      <th>3</th>\n",
              "      <td>4</td>\n",
              "      <td>604</td>\n",
              "    </tr>\n",
              "    <tr>\n",
              "      <th>4</th>\n",
              "      <td>5</td>\n",
              "      <td>7644</td>\n",
              "    </tr>\n",
              "  </tbody>\n",
              "</table>\n",
              "</div>"
            ],
            "text/plain": [
              "   PRODUCT_ID  BROWSE_NODE_ID\n",
              "0           1            1140\n",
              "1           2            2321\n",
              "2           3             840\n",
              "3           4             604\n",
              "4           5            7644"
            ]
          },
          "metadata": {
            "tags": []
          },
          "execution_count": 18
        }
      ]
    },
    {
      "cell_type": "code",
      "metadata": {
        "id": "B-d0md1ceX65"
      },
      "source": [
        "final_df.to_csv('/content/predictions4.csv' , index= False)"
      ],
      "execution_count": null,
      "outputs": []
    },
    {
      "cell_type": "code",
      "metadata": {
        "colab": {
          "base_uri": "https://localhost:8080/"
        },
        "id": "--SksnENfIRR",
        "outputId": "1c2fdd25-3689-4590-d3b2-843455cf41aa"
      },
      "source": [
        "def"
      ],
      "execution_count": null,
      "outputs": [
        {
          "output_type": "stream",
          "text": [
            "/content\n"
          ],
          "name": "stdout"
        }
      ]
    },
    {
      "cell_type": "code",
      "metadata": {
        "execution": {
          "iopub.status.busy": "2021-07-31T03:29:26.888345Z",
          "iopub.execute_input": "2021-07-31T03:29:26.888744Z",
          "iopub.status.idle": "2021-07-31T03:29:26.907862Z",
          "shell.execute_reply.started": "2021-07-31T03:29:26.888705Z",
          "shell.execute_reply": "2021-07-31T03:29:26.906869Z"
        },
        "trusted": true,
        "id": "ZeBgBvpTzbRo"
      },
      "source": [
        "#train\n",
        "import pandas as pd\n",
        "from sklearn import model_selection\n",
        "from sklearn import metrics\n",
        "from transformers import AdamW\n",
        "from sklearn.preprocessing import LabelEncoder\n",
        "from transformers import get_linear_schedule_with_warmup\n",
        "import csv\n",
        "import datetime\n",
        "\n",
        "def format_time(elapsed):\n",
        "    elapsed_rounded = int(round((elapsed)))\n",
        "    return str(datetime.timedelta(seconds=elapsed_rounded))\n",
        "\n",
        "def run(df):\n",
        "#     df = pd.read_csv(TRAINING_FILE ,escapechar = \"\\\\\" , quoting = csv.QUOTE_NONE).fillna(\"none\")\n",
        "#     df = df.sample(n = 20000)\n",
        "#     print(df.head())\n",
        "\n",
        "#     key = df['BROWSE_NODE_ID'].value_counts()\n",
        "#     for index, row in tqdm(df.iterrows(), total = df.shape[0]):\n",
        "#         if(key[row['BROWSE_NODE_ID']] == 1):\n",
        "#             df.drop(index, inplace = True)\n",
        "\n",
        "#     le = LabelEncoder()\n",
        "#     df['BROWSE_NODE_ID'] = le.fit_transform(df['BROWSE_NODE_ID'])\n",
        "#     le_name_mapping = dict(zip( le.transform(le.classes_) , le.classes_))\n",
        "\n",
        "    df_train, df_valid = model_selection.train_test_split(\n",
        "        df,\n",
        "        test_size = 0.1,\n",
        "        random_state = 2000,\n",
        "        stratify = df.BROWSE_NODE_ID.values\n",
        "    )\n",
        "\n",
        "    df_train = df_train.reset_index(drop = True)\n",
        "    df_valid = df_valid.reset_index(drop = True)\n",
        "\n",
        "    # df_train = df_train.sample(n = 10000)\n",
        "    # df_test = df_test.sample(n = 1000)\n",
        "\n",
        "    train_dataset = BERTDataset(\n",
        "        sentence = df_train.text.values , \n",
        "        target = df_train.BROWSE_NODE_ID.values\n",
        "    )\n",
        "\n",
        "    valid_dataset = BERTDataset(\n",
        "        sentence = df_valid.text.values , \n",
        "        target = df_valid.BROWSE_NODE_ID.values\n",
        "    )\n",
        "\n",
        "    train_data_loader = torch.utils.data.DataLoader(\n",
        "        train_dataset ,\n",
        "        batch_size = TRAIN_BATCH_SIZE, \n",
        "        num_workers = 1\n",
        "    )\n",
        "\n",
        "    valid_data_loader = torch.utils.data.DataLoader(\n",
        "        valid_dataset ,\n",
        "        batch_size = VALIDATION_BATCH_SIZE, \n",
        "        num_workers = 1\n",
        "    )\n",
        "    \n",
        "    if torch.cuda.is_available():\n",
        "        device = torch.device(\"cuda\")\n",
        "        print(\"There are %s GPU's.\" %torch.cuda.device_count())\n",
        "        print(\"GPU Name: \" , torch.cuda.get_device_name(0))\n",
        "\n",
        "    else:\n",
        "        print(\"No GPU's Available :(\")\n",
        "        decive = torch.device(\"cpu\")\n",
        "    \n",
        "    model = BERTBaseUncased(df['BROWSE_NODE_ID'].nunique())\n",
        "    model.to(device)\n",
        "#     params = (list(model.named_parameters()))\n",
        "#     for p in params:\n",
        "#         print(\"{:<55} {:>12}\".format(p[0], str(tuple(p[1].size()))))\n",
        "\n",
        "    param_optimizer = list(model.named_parameters())\n",
        "    no_decay = [\"bias\", \"LayerNorm.bias\", \"LayerNorm.weight\"]\n",
        " \n",
        "    optimizer_parameters = [\n",
        "        {\n",
        "            \"params\": [\n",
        "                p for n, p in param_optimizer if not any(nd in n for nd in no_decay)\n",
        "            ],\n",
        "            \"weight_decay\": 0.001,\n",
        "        },\n",
        "        {\n",
        "            \"params\": [\n",
        "                p for n, p in param_optimizer if any(nd in n for nd in no_decay)\n",
        "            ],\n",
        "            \"weight_decay\": 0.0,\n",
        "        },\n",
        "    ]   \n",
        "\n",
        "    num_train_steps = len(df_train)/TRAIN_BATCH_SIZE * EPOCHS\n",
        "    optimizer = AdamW(\n",
        "        optimizer_parameters,\n",
        "        lr = 2e-5\n",
        "    )\n",
        "    scheduler = get_linear_schedule_with_warmup(\n",
        "        optimizer, num_warmup_steps=0, num_training_steps=num_train_steps\n",
        "    )\n",
        "    \n",
        "    checkpoint = torch.load(OUTPUT_PATH)\n",
        "    model.load_state_dict(checkpoint['model_state_dict'])\n",
        "    optimizer.load_state_dict(checkpoint['optimizer_state_dict'])\n",
        "#     epoch = checkpoint['epoch']\n",
        "#     loss = checkpoint['loss']\n",
        "    \n",
        "    training_stats = []\n",
        "    best_accuracy = 0\n",
        "    for epoch in range(EPOCHS):\n",
        "        print(\"\")\n",
        "        print('======== Epoch {:} / {:} ========'.format(epoch + 1, EPOCHS))\n",
        "        print('Training...')\n",
        "        t0 = time.time()\n",
        "        \n",
        "        avg_train_loss = train_fn(train_data_loader , model , optimizer , device , ACCUMULATION , scheduler)\n",
        "        \n",
        "        training_time = format_time(time.time() - t0)\n",
        "        print(\"\")\n",
        "        print(\"  Average training loss: {0:.2f}\".format(avg_train_loss))\n",
        "        print(\"  Training epcoh took: {:}\".format(training_time))\n",
        "    \n",
        "        print(\"\")\n",
        "        print(\"Running Validation...\")\n",
        "        t0 = time.time()\n",
        "        \n",
        "        \n",
        "        outputs , targets , avg_val_loss = eval_fn(valid_data_loader , model, device )\n",
        "        accuracy = metrics.accuracy_score(targets , outputs)\n",
        "        \n",
        "        validation_time = format_time(time.time() - t0)\n",
        "        print(\"  Validation Loss: {0:.2f}\".format(avg_val_loss))\n",
        "        print(\"  Validation took: {:}\".format(validation_time))\n",
        "        print(\"  Validation accuracy: {:}\".format(accuracy))\n",
        "        \n",
        "        training_stats.append(\n",
        "            {\n",
        "                'epoch': epoch + 1,\n",
        "                'Training Loss': avg_train_loss,\n",
        "                'Valid. Loss': avg_val_loss,\n",
        "                'Valid. Accur.': accuracy,\n",
        "                'Training Time': training_time,\n",
        "                'Validation Time': validation_time\n",
        "            }\n",
        "        )\n",
        "        \n",
        "        torch.save({\n",
        "            'epoch': epoch + 1,\n",
        "            'model_state_dict': model.state_dict(),\n",
        "            'optimizer_state_dict': optimizer.state_dict(),\n",
        "            'loss': avg_val_loss,\n",
        "            'acc' : accuracy\n",
        "            }, OUTPUT_PATH)\n",
        "        \n",
        "        if(accuracy > best_accuracy):\n",
        "#             torch.save(model.state_dict(), OUTPUT_PATH)\n",
        "            print(f\"Accuracy Score = {accuracy}\")\n",
        "            best_accuracy = accuracy\n",
        "            \n",
        "    return training_stats\n"
      ],
      "execution_count": null,
      "outputs": []
    },
    {
      "cell_type": "code",
      "metadata": {
        "execution": {
          "iopub.status.busy": "2021-07-30T18:56:13.624395Z",
          "iopub.execute_input": "2021-07-30T18:56:13.624748Z",
          "iopub.status.idle": "2021-07-30T18:56:22.738884Z",
          "shell.execute_reply.started": "2021-07-30T18:56:13.624712Z",
          "shell.execute_reply": "2021-07-30T18:56:22.738111Z"
        },
        "trusted": true,
        "id": "_ir4xwtazbRp",
        "outputId": "eff0279d-b2b0-4059-c37e-f3ff8c9694bb"
      },
      "source": [
        "#load data\n",
        "df = pd.read_pickle('final_df')\n",
        "\n",
        "# df.drop(['TITLE', 'DESCRIPTION', 'BULLET_POINTS', 'BRAND'] ,axis = 1,  inplace = True)\n",
        "df.head()"
      ],
      "execution_count": null,
      "outputs": [
        {
          "output_type": "execute_result",
          "data": {
            "text/plain": [
              "                                               TITLE  \\\n",
              "0         Pete The Cat Bedtime Blues Doll, 14.5 Inch   \n",
              "1  The New Yorker NYHM014 Refrigerator Magnet, 2 ...   \n",
              "2  The Ultimate Self-Sufficiency Handbook: A Comp...   \n",
              "3   Amway Nutrilite Kids Chewable Iron Tablets (100)   \n",
              "4  Teacher Planner Company A4 6 Lesson Academic T...   \n",
              "\n",
              "                                         DESCRIPTION  \\\n",
              "0  Pete the Cat is the coolest, most popular cat ...   \n",
              "1  The New Yorker Handsome Cello Wrapped Hard Mag...   \n",
              "2                                                NaN   \n",
              "3                                                NaN   \n",
              "4                                                NaN   \n",
              "\n",
              "                                       BULLET_POINTS           BRAND  \\\n",
              "0  [Pete the Cat Bedtime Blues plush doll,Based o...     MerryMakers   \n",
              "1  [Cat In A Tea Cup by New Yorker cover artist G...  The New Yorker   \n",
              "2                                Skyhorse Publishing          imusti   \n",
              "3  [Nutrilite Kids,Chewable Iron Tablets,Quantity...           Amway   \n",
              "4                                                NaN             NaN   \n",
              "\n",
              "                                                text  BROWSE_NODE_ID  \n",
              "0  Pete The Cat Bedtime Blues Doll, 14.5 Inch Pet...               0  \n",
              "1  The New Yorker NYHM014 Refrigerator Magnet, 2 ...               1  \n",
              "2  The Ultimate Self-Sufficiency Handbook: A Comp...               2  \n",
              "3  Amway Nutrilite Kids Chewable Iron Tablets (10...               3  \n",
              "4  Teacher Planner Company A4 6 Lesson Academic T...               4  "
            ],
            "text/html": [
              "<div>\n",
              "<style scoped>\n",
              "    .dataframe tbody tr th:only-of-type {\n",
              "        vertical-align: middle;\n",
              "    }\n",
              "\n",
              "    .dataframe tbody tr th {\n",
              "        vertical-align: top;\n",
              "    }\n",
              "\n",
              "    .dataframe thead th {\n",
              "        text-align: right;\n",
              "    }\n",
              "</style>\n",
              "<table border=\"1\" class=\"dataframe\">\n",
              "  <thead>\n",
              "    <tr style=\"text-align: right;\">\n",
              "      <th></th>\n",
              "      <th>TITLE</th>\n",
              "      <th>DESCRIPTION</th>\n",
              "      <th>BULLET_POINTS</th>\n",
              "      <th>BRAND</th>\n",
              "      <th>text</th>\n",
              "      <th>BROWSE_NODE_ID</th>\n",
              "    </tr>\n",
              "  </thead>\n",
              "  <tbody>\n",
              "    <tr>\n",
              "      <th>0</th>\n",
              "      <td>Pete The Cat Bedtime Blues Doll, 14.5 Inch</td>\n",
              "      <td>Pete the Cat is the coolest, most popular cat ...</td>\n",
              "      <td>[Pete the Cat Bedtime Blues plush doll,Based o...</td>\n",
              "      <td>MerryMakers</td>\n",
              "      <td>Pete The Cat Bedtime Blues Doll, 14.5 Inch Pet...</td>\n",
              "      <td>0</td>\n",
              "    </tr>\n",
              "    <tr>\n",
              "      <th>1</th>\n",
              "      <td>The New Yorker NYHM014 Refrigerator Magnet, 2 ...</td>\n",
              "      <td>The New Yorker Handsome Cello Wrapped Hard Mag...</td>\n",
              "      <td>[Cat In A Tea Cup by New Yorker cover artist G...</td>\n",
              "      <td>The New Yorker</td>\n",
              "      <td>The New Yorker NYHM014 Refrigerator Magnet, 2 ...</td>\n",
              "      <td>1</td>\n",
              "    </tr>\n",
              "    <tr>\n",
              "      <th>2</th>\n",
              "      <td>The Ultimate Self-Sufficiency Handbook: A Comp...</td>\n",
              "      <td>NaN</td>\n",
              "      <td>Skyhorse Publishing</td>\n",
              "      <td>imusti</td>\n",
              "      <td>The Ultimate Self-Sufficiency Handbook: A Comp...</td>\n",
              "      <td>2</td>\n",
              "    </tr>\n",
              "    <tr>\n",
              "      <th>3</th>\n",
              "      <td>Amway Nutrilite Kids Chewable Iron Tablets (100)</td>\n",
              "      <td>NaN</td>\n",
              "      <td>[Nutrilite Kids,Chewable Iron Tablets,Quantity...</td>\n",
              "      <td>Amway</td>\n",
              "      <td>Amway Nutrilite Kids Chewable Iron Tablets (10...</td>\n",
              "      <td>3</td>\n",
              "    </tr>\n",
              "    <tr>\n",
              "      <th>4</th>\n",
              "      <td>Teacher Planner Company A4 6 Lesson Academic T...</td>\n",
              "      <td>NaN</td>\n",
              "      <td>NaN</td>\n",
              "      <td>NaN</td>\n",
              "      <td>Teacher Planner Company A4 6 Lesson Academic T...</td>\n",
              "      <td>4</td>\n",
              "    </tr>\n",
              "  </tbody>\n",
              "</table>\n",
              "</div>"
            ]
          },
          "metadata": {
            "tags": []
          },
          "execution_count": 9
        }
      ]
    },
    {
      "cell_type": "code",
      "metadata": {
        "execution": {
          "iopub.status.busy": "2021-07-30T18:56:22.740213Z",
          "iopub.execute_input": "2021-07-30T18:56:22.740563Z",
          "iopub.status.idle": "2021-07-30T18:56:22.746482Z",
          "shell.execute_reply.started": "2021-07-30T18:56:22.740528Z",
          "shell.execute_reply": "2021-07-30T18:56:22.745506Z"
        },
        "trusted": true,
        "id": "tPAB_fMgzbRr",
        "outputId": "489d9922-c03e-47ac-e49a-df6ede2194c1"
      },
      "source": [
        "\n",
        "len(df)"
      ],
      "execution_count": null,
      "outputs": [
        {
          "output_type": "execute_result",
          "data": {
            "text/plain": [
              "2903024"
            ]
          },
          "metadata": {
            "tags": []
          },
          "execution_count": 10
        }
      ]
    },
    {
      "cell_type": "code",
      "metadata": {
        "execution": {
          "iopub.status.busy": "2021-07-30T18:56:22.747905Z",
          "iopub.execute_input": "2021-07-30T18:56:22.748274Z",
          "iopub.status.idle": "2021-07-30T18:56:22.755281Z",
          "shell.execute_reply.started": "2021-07-30T18:56:22.748240Z",
          "shell.execute_reply": "2021-07-30T18:56:22.754038Z"
        },
        "trusted": true,
        "id": "qxFjKDgqzbRs"
      },
      "source": [
        "# def drop_sparse_classes(df):\n",
        "#     unique_labels, label_counts = np.unique(df.BROWSE_NODE_ID, return_counts=True)\n",
        "#     drop_labels = unique_labels[label_counts < 10]\n",
        "#     _df = df.apply(lambda x: x['BROWSE_NODE_ID'] in unique_labels[label_counts < 10], axis = 1)\n",
        "#     df_drop = df[_df]\n",
        "#     return df_drop\n",
        "\n",
        "def preprocess(df):\n",
        "    key = df['BROWSE_NODE_ID'].value_counts()\n",
        "    print(\"No. of labels having only one sample : \", key.value_counts()[1])\n",
        "    \n",
        "    #So, we will have to remove those samples\n",
        "    for index, row in tqdm(df.iterrows(), total = df.shape[0]):\n",
        "        if(key[row['BROWSE_NODE_ID']] == 1):\n",
        "            df.drop(index, inplace = True)"
      ],
      "execution_count": null,
      "outputs": []
    },
    {
      "cell_type": "code",
      "metadata": {
        "execution": {
          "iopub.status.busy": "2021-07-30T18:56:22.756750Z",
          "iopub.execute_input": "2021-07-30T18:56:22.757107Z",
          "iopub.status.idle": "2021-07-30T19:03:50.521963Z",
          "shell.execute_reply.started": "2021-07-30T18:56:22.757070Z",
          "shell.execute_reply": "2021-07-30T19:03:50.520727Z"
        },
        "trusted": true,
        "colab": {
          "referenced_widgets": [
            "bac4d99b5dc34cfa8f6c83399b9b3278"
          ]
        },
        "id": "ZDWeBmXzzbRt",
        "outputId": "8737b689-4a15-432f-cbcd-4c749b7a0432"
      },
      "source": [
        "preprocess(df)\n",
        "# df = drop_sparse_classes(df)"
      ],
      "execution_count": null,
      "outputs": [
        {
          "output_type": "stream",
          "text": [
            "No. of labels having only one sample :  247\n"
          ],
          "name": "stdout"
        },
        {
          "output_type": "display_data",
          "data": {
            "text/plain": [
              "  0%|          | 0/2903024 [00:00<?, ?it/s]"
            ],
            "application/vnd.jupyter.widget-view+json": {
              "version_major": 2,
              "version_minor": 0,
              "model_id": "bac4d99b5dc34cfa8f6c83399b9b3278"
            }
          },
          "metadata": {
            "tags": []
          }
        }
      ]
    },
    {
      "cell_type": "code",
      "metadata": {
        "execution": {
          "iopub.status.busy": "2021-07-30T19:03:50.523786Z",
          "iopub.execute_input": "2021-07-30T19:03:50.524198Z",
          "iopub.status.idle": "2021-07-30T19:03:50.814550Z",
          "shell.execute_reply.started": "2021-07-30T19:03:50.524157Z",
          "shell.execute_reply": "2021-07-30T19:03:50.813634Z"
        },
        "trusted": true,
        "id": "k0onFFpnzbRu",
        "outputId": "945f048a-3fd4-4312-84f5-aa87f5c7def0"
      },
      "source": [
        "df.drop(['TITLE', 'DESCRIPTION', 'BULLET_POINTS', 'BRAND'] ,axis = 1,  inplace = True)\n",
        "print(len(df))\n",
        "print(len(df['BROWSE_NODE_ID'].value_counts()))"
      ],
      "execution_count": null,
      "outputs": [
        {
          "output_type": "stream",
          "text": [
            "2902777\n",
            "9672\n"
          ],
          "name": "stdout"
        }
      ]
    },
    {
      "cell_type": "code",
      "metadata": {
        "execution": {
          "iopub.status.busy": "2021-07-30T19:05:42.861613Z",
          "iopub.execute_input": "2021-07-30T19:05:42.861929Z",
          "iopub.status.idle": "2021-07-30T19:05:45.760767Z",
          "shell.execute_reply.started": "2021-07-30T19:05:42.861901Z",
          "shell.execute_reply": "2021-07-30T19:05:45.759925Z"
        },
        "trusted": true,
        "id": "wQT7wcuBzbRw"
      },
      "source": [
        "_ , df_sixM = model_selection.train_test_split(\n",
        "        df,\n",
        "        test_size = 0.175,\n",
        "        random_state = 2000,\n",
        "        stratify = df.BROWSE_NODE_ID.values\n",
        "    )"
      ],
      "execution_count": null,
      "outputs": []
    },
    {
      "cell_type": "code",
      "metadata": {
        "execution": {
          "iopub.status.busy": "2021-07-30T19:05:47.353678Z",
          "iopub.execute_input": "2021-07-30T19:05:47.353984Z",
          "iopub.status.idle": "2021-07-30T19:09:42.315384Z",
          "shell.execute_reply.started": "2021-07-30T19:05:47.353956Z",
          "shell.execute_reply": "2021-07-30T19:09:42.311411Z"
        },
        "trusted": true,
        "colab": {
          "referenced_widgets": [
            "a778bbc6954744f4b8bcd8bb48cb06b1"
          ]
        },
        "id": "tn8iTBXLzbRx",
        "outputId": "8777edcf-64f8-4537-8d5c-a383cce811af"
      },
      "source": [
        "preprocess(df_sixM)"
      ],
      "execution_count": null,
      "outputs": [
        {
          "output_type": "stream",
          "text": [
            "No. of labels having only one sample :  2109\n"
          ],
          "name": "stdout"
        },
        {
          "output_type": "display_data",
          "data": {
            "text/plain": [
              "  0%|          | 0/507986 [00:00<?, ?it/s]"
            ],
            "application/vnd.jupyter.widget-view+json": {
              "version_major": 2,
              "version_minor": 0,
              "model_id": "a778bbc6954744f4b8bcd8bb48cb06b1"
            }
          },
          "metadata": {
            "tags": []
          }
        },
        {
          "output_type": "stream",
          "text": [
            "/opt/conda/lib/python3.7/site-packages/pandas/core/frame.py:4315: SettingWithCopyWarning: \n",
            "A value is trying to be set on a copy of a slice from a DataFrame\n",
            "\n",
            "See the caveats in the documentation: https://pandas.pydata.org/pandas-docs/stable/user_guide/indexing.html#returning-a-view-versus-a-copy\n",
            "  errors=errors,\n"
          ],
          "name": "stderr"
        }
      ]
    },
    {
      "cell_type": "code",
      "metadata": {
        "execution": {
          "iopub.status.busy": "2021-07-30T19:09:59.992846Z",
          "iopub.execute_input": "2021-07-30T19:09:59.993167Z",
          "iopub.status.idle": "2021-07-30T19:10:00.013413Z",
          "shell.execute_reply.started": "2021-07-30T19:09:59.993139Z",
          "shell.execute_reply": "2021-07-30T19:10:00.012346Z"
        },
        "trusted": true,
        "id": "JPW8NE1-zbRy",
        "outputId": "055a3c60-cc38-4627-80a6-6c263434ae18"
      },
      "source": [
        "print(len(df_sixM))\n",
        "print(len(df_sixM['BROWSE_NODE_ID'].value_counts()))\n",
        "df_sixM.head()"
      ],
      "execution_count": null,
      "outputs": [
        {
          "output_type": "stream",
          "text": [
            "505877\n",
            "7026\n"
          ],
          "name": "stdout"
        },
        {
          "output_type": "execute_result",
          "data": {
            "text/plain": [
              "                                                      text  BROWSE_NODE_ID\n",
              "1819235  CAPPL Artificial Vertical Garden Green Leaf Ar...            5254\n",
              "118123   Super Chunky Yarn, Soft Handspun 100% Merino B...           16946\n",
              "2732176  Sharp Icon Plain Color Glitter Bling Designer ...            1045\n",
              "496557   Silicone Pastry Clay Bakeware Baking Mat Tray ...            4753\n",
              "2017026  Case Creation Love Birds Colorful 3D Diamond G...            1045"
            ],
            "text/html": [
              "<div>\n",
              "<style scoped>\n",
              "    .dataframe tbody tr th:only-of-type {\n",
              "        vertical-align: middle;\n",
              "    }\n",
              "\n",
              "    .dataframe tbody tr th {\n",
              "        vertical-align: top;\n",
              "    }\n",
              "\n",
              "    .dataframe thead th {\n",
              "        text-align: right;\n",
              "    }\n",
              "</style>\n",
              "<table border=\"1\" class=\"dataframe\">\n",
              "  <thead>\n",
              "    <tr style=\"text-align: right;\">\n",
              "      <th></th>\n",
              "      <th>text</th>\n",
              "      <th>BROWSE_NODE_ID</th>\n",
              "    </tr>\n",
              "  </thead>\n",
              "  <tbody>\n",
              "    <tr>\n",
              "      <th>1819235</th>\n",
              "      <td>CAPPL Artificial Vertical Garden Green Leaf Ar...</td>\n",
              "      <td>5254</td>\n",
              "    </tr>\n",
              "    <tr>\n",
              "      <th>118123</th>\n",
              "      <td>Super Chunky Yarn, Soft Handspun 100% Merino B...</td>\n",
              "      <td>16946</td>\n",
              "    </tr>\n",
              "    <tr>\n",
              "      <th>2732176</th>\n",
              "      <td>Sharp Icon Plain Color Glitter Bling Designer ...</td>\n",
              "      <td>1045</td>\n",
              "    </tr>\n",
              "    <tr>\n",
              "      <th>496557</th>\n",
              "      <td>Silicone Pastry Clay Bakeware Baking Mat Tray ...</td>\n",
              "      <td>4753</td>\n",
              "    </tr>\n",
              "    <tr>\n",
              "      <th>2017026</th>\n",
              "      <td>Case Creation Love Birds Colorful 3D Diamond G...</td>\n",
              "      <td>1045</td>\n",
              "    </tr>\n",
              "  </tbody>\n",
              "</table>\n",
              "</div>"
            ]
          },
          "metadata": {
            "tags": []
          },
          "execution_count": 16
        }
      ]
    },
    {
      "cell_type": "code",
      "metadata": {
        "execution": {
          "iopub.status.busy": "2021-07-30T19:10:05.177193Z",
          "iopub.execute_input": "2021-07-30T19:10:05.177549Z",
          "iopub.status.idle": "2021-07-30T19:10:05.182880Z",
          "shell.execute_reply.started": "2021-07-30T19:10:05.177519Z",
          "shell.execute_reply": "2021-07-30T19:10:05.181694Z"
        },
        "trusted": true,
        "id": "y9PclRkJzbRy"
      },
      "source": [
        "# !pip install joblib\n",
        "import joblib"
      ],
      "execution_count": null,
      "outputs": []
    },
    {
      "cell_type": "code",
      "metadata": {
        "execution": {
          "iopub.status.busy": "2021-07-30T19:10:06.535632Z",
          "iopub.execute_input": "2021-07-30T19:10:06.535969Z",
          "iopub.status.idle": "2021-07-30T19:10:06.540827Z",
          "shell.execute_reply.started": "2021-07-30T19:10:06.535940Z",
          "shell.execute_reply": "2021-07-30T19:10:06.539393Z"
        },
        "trusted": true,
        "id": "EBZgj7lbzbRz"
      },
      "source": [
        "def encoding(df):\n",
        "    le = LabelEncoder()\n",
        "    df['BROWSE_NODE_ID'] = le.fit_transform(df['BROWSE_NODE_ID'])\n",
        "    decoder = dict(zip( le.transform(le.classes_) , le.classes_))\n",
        "    return decoder"
      ],
      "execution_count": null,
      "outputs": []
    },
    {
      "cell_type": "code",
      "metadata": {
        "execution": {
          "iopub.status.busy": "2021-07-30T19:10:09.268038Z",
          "iopub.execute_input": "2021-07-30T19:10:09.268391Z",
          "iopub.status.idle": "2021-07-30T19:10:09.327006Z",
          "shell.execute_reply.started": "2021-07-30T19:10:09.268359Z",
          "shell.execute_reply": "2021-07-30T19:10:09.326115Z"
        },
        "trusted": true,
        "id": "cgEqYa9dzbR0",
        "outputId": "0e292324-08ab-439b-cf1f-03924e65f251"
      },
      "source": [
        "decoder = encoding(df_sixM)"
      ],
      "execution_count": null,
      "outputs": [
        {
          "output_type": "stream",
          "text": [
            "/opt/conda/lib/python3.7/site-packages/ipykernel_launcher.py:3: SettingWithCopyWarning: \n",
            "A value is trying to be set on a copy of a slice from a DataFrame.\n",
            "Try using .loc[row_indexer,col_indexer] = value instead\n",
            "\n",
            "See the caveats in the documentation: https://pandas.pydata.org/pandas-docs/stable/user_guide/indexing.html#returning-a-view-versus-a-copy\n",
            "  This is separate from the ipykernel package so we can avoid doing imports until\n"
          ],
          "name": "stderr"
        }
      ]
    },
    {
      "cell_type": "code",
      "metadata": {
        "execution": {
          "iopub.status.busy": "2021-07-30T19:10:11.852503Z",
          "iopub.execute_input": "2021-07-30T19:10:11.853231Z",
          "iopub.status.idle": "2021-07-30T19:10:12.407691Z",
          "shell.execute_reply.started": "2021-07-30T19:10:11.853172Z",
          "shell.execute_reply": "2021-07-30T19:10:12.406894Z"
        },
        "trusted": true,
        "id": "C0yEK_NFzbR1",
        "outputId": "92165800-bdb9-4233-927f-8416db2ffa26"
      },
      "source": [
        "joblib.dump(decoder , 'decoder.joblib')"
      ],
      "execution_count": null,
      "outputs": [
        {
          "output_type": "execute_result",
          "data": {
            "text/plain": [
              "['decoder.joblib']"
            ]
          },
          "metadata": {
            "tags": []
          },
          "execution_count": 20
        }
      ]
    },
    {
      "cell_type": "code",
      "metadata": {
        "execution": {
          "iopub.status.busy": "2021-07-30T19:10:18.223898Z",
          "iopub.execute_input": "2021-07-30T19:10:18.224219Z",
          "iopub.status.idle": "2021-07-30T19:10:19.082042Z",
          "shell.execute_reply.started": "2021-07-30T19:10:18.224191Z",
          "shell.execute_reply": "2021-07-30T19:10:19.081221Z"
        },
        "trusted": true,
        "id": "487ujqrFzbR2"
      },
      "source": [
        "df_sixM.to_pickle('df_sixM')"
      ],
      "execution_count": null,
      "outputs": []
    },
    {
      "cell_type": "code",
      "metadata": {
        "execution": {
          "iopub.status.busy": "2021-07-30T19:10:29.868156Z",
          "iopub.execute_input": "2021-07-30T19:10:29.868558Z",
          "iopub.status.idle": "2021-07-30T19:10:29.873110Z",
          "shell.execute_reply.started": "2021-07-30T19:10:29.868523Z",
          "shell.execute_reply": "2021-07-30T19:10:29.871796Z"
        },
        "trusted": true,
        "id": "toxqya2pzbR2"
      },
      "source": [
        "# # preprocess(df_fiveM)\n",
        "# _ , df_fiveM = model_selection.train_test_split(\n",
        "#         df_fiveM,\n",
        "#         test_size = 0.07,\n",
        "#         random_state = 2000,\n",
        "#         stratify = df_fiveM.BROWSE_NODE_ID.values\n",
        "#     )\n",
        "# preprocess(df_fiveM)\n",
        "# decoder = encoding(df_fiveM)"
      ],
      "execution_count": null,
      "outputs": []
    },
    {
      "cell_type": "code",
      "metadata": {
        "execution": {
          "iopub.status.busy": "2021-07-30T19:10:34.137816Z",
          "iopub.execute_input": "2021-07-30T19:10:34.138178Z",
          "iopub.status.idle": "2021-07-31T03:00:01.914959Z",
          "shell.execute_reply.started": "2021-07-30T19:10:34.138146Z",
          "shell.execute_reply": "2021-07-31T03:00:01.912896Z"
        },
        "trusted": true,
        "colab": {
          "referenced_widgets": [
            "452178e3715048bcb5172dab0806620f",
            "296b647cbf044c0b8a133c34eb499c84",
            "f40f1ada65fa4a2caedb1f1e50933428"
          ]
        },
        "id": "ppYqtRzGzbR2",
        "outputId": "33be0326-9c05-482d-ff10-0e294ffa7766"
      },
      "source": [
        "training_stats = run(df_sixM)"
      ],
      "execution_count": null,
      "outputs": [
        {
          "output_type": "stream",
          "text": [
            "There are 1 GPU's.\n",
            "GPU Name:  Tesla P100-PCIE-16GB\n"
          ],
          "name": "stdout"
        },
        {
          "output_type": "stream",
          "text": [
            "Some weights of the model checkpoint at ../input/bert-base-uncased/ were not used when initializing BertModel: ['cls.predictions.bias', 'cls.predictions.transform.LayerNorm.weight', 'cls.predictions.transform.dense.weight', 'cls.predictions.decoder.weight', 'cls.predictions.transform.LayerNorm.bias', 'cls.predictions.transform.dense.bias', 'cls.seq_relationship.weight', 'cls.seq_relationship.bias']\n",
            "- This IS expected if you are initializing BertModel from the checkpoint of a model trained on another task or with another architecture (e.g. initializing a BertForSequenceClassification model from a BertForPreTraining model).\n",
            "- This IS NOT expected if you are initializing BertModel from the checkpoint of a model that you expect to be exactly identical (initializing a BertForSequenceClassification model from a BertForSequenceClassification model).\n"
          ],
          "name": "stderr"
        },
        {
          "output_type": "stream",
          "text": [
            "\n",
            "======== Epoch 1 / 2 ========\n",
            "Training...\n"
          ],
          "name": "stdout"
        },
        {
          "output_type": "display_data",
          "data": {
            "text/plain": [
              "  0%|          | 0/56912 [00:00<?, ?it/s]"
            ],
            "application/vnd.jupyter.widget-view+json": {
              "version_major": 2,
              "version_minor": 0,
              "model_id": "452178e3715048bcb5172dab0806620f"
            }
          },
          "metadata": {
            "tags": []
          }
        },
        {
          "output_type": "stream",
          "text": [
            "\n",
            "  Average training loss: 3.58\n",
            "  Training epcoh took: 7:09:16\n",
            "\n",
            "Running Validation...\n"
          ],
          "name": "stdout"
        },
        {
          "output_type": "display_data",
          "data": {
            "text/plain": [
              "  0%|          | 0/12647 [00:00<?, ?it/s]"
            ],
            "application/vnd.jupyter.widget-view+json": {
              "version_major": 2,
              "version_minor": 0,
              "model_id": "296b647cbf044c0b8a133c34eb499c84"
            }
          },
          "metadata": {
            "tags": []
          }
        },
        {
          "output_type": "stream",
          "text": [
            "  Validation Loss: 2.49\n",
            "  Validation took: 0:16:59\n",
            "  Validation accuracy: 0.6192575314303788\n",
            "Accuracy Score = 0.6192575314303788\n",
            "\n",
            "======== Epoch 2 / 2 ========\n",
            "Training...\n"
          ],
          "name": "stdout"
        },
        {
          "output_type": "display_data",
          "data": {
            "text/plain": [
              "  0%|          | 0/56912 [00:00<?, ?it/s]"
            ],
            "application/vnd.jupyter.widget-view+json": {
              "version_major": 2,
              "version_minor": 0,
              "model_id": "f40f1ada65fa4a2caedb1f1e50933428"
            }
          },
          "metadata": {
            "tags": []
          }
        },
        {
          "output_type": "error",
          "ename": "KeyboardInterrupt",
          "evalue": "",
          "traceback": [
            "\u001b[0;31m---------------------------------------------------------------------------\u001b[0m",
            "\u001b[0;31mKeyboardInterrupt\u001b[0m                         Traceback (most recent call last)",
            "\u001b[0;32m<ipython-input-23-746c1f7fcdd2>\u001b[0m in \u001b[0;36m<module>\u001b[0;34m\u001b[0m\n\u001b[0;32m----> 1\u001b[0;31m \u001b[0mtraining_stats\u001b[0m \u001b[0;34m=\u001b[0m \u001b[0mrun\u001b[0m\u001b[0;34m(\u001b[0m\u001b[0mdf_sixM\u001b[0m\u001b[0;34m)\u001b[0m\u001b[0;34m\u001b[0m\u001b[0;34m\u001b[0m\u001b[0m\n\u001b[0m",
            "\u001b[0;32m<ipython-input-8-4a9f25b54862>\u001b[0m in \u001b[0;36mrun\u001b[0;34m(df)\u001b[0m\n\u001b[1;32m    112\u001b[0m         \u001b[0mt0\u001b[0m \u001b[0;34m=\u001b[0m \u001b[0mtime\u001b[0m\u001b[0;34m.\u001b[0m\u001b[0mtime\u001b[0m\u001b[0;34m(\u001b[0m\u001b[0;34m)\u001b[0m\u001b[0;34m\u001b[0m\u001b[0;34m\u001b[0m\u001b[0m\n\u001b[1;32m    113\u001b[0m \u001b[0;34m\u001b[0m\u001b[0m\n\u001b[0;32m--> 114\u001b[0;31m         \u001b[0mavg_train_loss\u001b[0m \u001b[0;34m=\u001b[0m \u001b[0mtrain_fn\u001b[0m\u001b[0;34m(\u001b[0m\u001b[0mtrain_data_loader\u001b[0m \u001b[0;34m,\u001b[0m \u001b[0mmodel\u001b[0m \u001b[0;34m,\u001b[0m \u001b[0moptimizer\u001b[0m \u001b[0;34m,\u001b[0m \u001b[0mdevice\u001b[0m \u001b[0;34m,\u001b[0m \u001b[0mACCUMULATION\u001b[0m \u001b[0;34m,\u001b[0m \u001b[0mscheduler\u001b[0m\u001b[0;34m)\u001b[0m\u001b[0;34m\u001b[0m\u001b[0;34m\u001b[0m\u001b[0m\n\u001b[0m\u001b[1;32m    115\u001b[0m \u001b[0;34m\u001b[0m\u001b[0m\n\u001b[1;32m    116\u001b[0m         \u001b[0mtraining_time\u001b[0m \u001b[0;34m=\u001b[0m \u001b[0mformat_time\u001b[0m\u001b[0;34m(\u001b[0m\u001b[0mtime\u001b[0m\u001b[0;34m.\u001b[0m\u001b[0mtime\u001b[0m\u001b[0;34m(\u001b[0m\u001b[0;34m)\u001b[0m \u001b[0;34m-\u001b[0m \u001b[0mt0\u001b[0m\u001b[0;34m)\u001b[0m\u001b[0;34m\u001b[0m\u001b[0;34m\u001b[0m\u001b[0m\n",
            "\u001b[0;32m<ipython-input-7-d80b47d3c935>\u001b[0m in \u001b[0;36mtrain_fn\u001b[0;34m(data_loader, model, optimizer, device, accumulation_steps, schedular)\u001b[0m\n\u001b[1;32m     29\u001b[0m         \u001b[0;31m# print(f\"inputs {len(ids) } , mask {len(mask)}  target {targets.shape}\")\u001b[0m\u001b[0;34m\u001b[0m\u001b[0;34m\u001b[0m\u001b[0;34m\u001b[0m\u001b[0m\n\u001b[1;32m     30\u001b[0m         \u001b[0mloss\u001b[0m \u001b[0;34m=\u001b[0m \u001b[0mloss_fn\u001b[0m\u001b[0;34m(\u001b[0m\u001b[0moutputs\u001b[0m\u001b[0;34m,\u001b[0m \u001b[0mtargets\u001b[0m\u001b[0;34m)\u001b[0m\u001b[0;34m\u001b[0m\u001b[0;34m\u001b[0m\u001b[0m\n\u001b[0;32m---> 31\u001b[0;31m         \u001b[0mloss\u001b[0m\u001b[0;34m.\u001b[0m\u001b[0mbackward\u001b[0m\u001b[0;34m(\u001b[0m\u001b[0;34m)\u001b[0m\u001b[0;34m\u001b[0m\u001b[0;34m\u001b[0m\u001b[0m\n\u001b[0m\u001b[1;32m     32\u001b[0m \u001b[0;31m#         print(f\"loss = {loss.item()}\")\u001b[0m\u001b[0;34m\u001b[0m\u001b[0;34m\u001b[0m\u001b[0;34m\u001b[0m\u001b[0m\n\u001b[1;32m     33\u001b[0m         \u001b[0mfinal_loss\u001b[0m \u001b[0;34m+=\u001b[0m \u001b[0mloss\u001b[0m\u001b[0;34m.\u001b[0m\u001b[0mitem\u001b[0m\u001b[0;34m(\u001b[0m\u001b[0;34m)\u001b[0m\u001b[0;34m\u001b[0m\u001b[0;34m\u001b[0m\u001b[0m\n",
            "\u001b[0;32m/opt/conda/lib/python3.7/site-packages/torch/tensor.py\u001b[0m in \u001b[0;36mbackward\u001b[0;34m(self, gradient, retain_graph, create_graph)\u001b[0m\n\u001b[1;32m    219\u001b[0m                 \u001b[0mretain_graph\u001b[0m\u001b[0;34m=\u001b[0m\u001b[0mretain_graph\u001b[0m\u001b[0;34m,\u001b[0m\u001b[0;34m\u001b[0m\u001b[0;34m\u001b[0m\u001b[0m\n\u001b[1;32m    220\u001b[0m                 create_graph=create_graph)\n\u001b[0;32m--> 221\u001b[0;31m         \u001b[0mtorch\u001b[0m\u001b[0;34m.\u001b[0m\u001b[0mautograd\u001b[0m\u001b[0;34m.\u001b[0m\u001b[0mbackward\u001b[0m\u001b[0;34m(\u001b[0m\u001b[0mself\u001b[0m\u001b[0;34m,\u001b[0m \u001b[0mgradient\u001b[0m\u001b[0;34m,\u001b[0m \u001b[0mretain_graph\u001b[0m\u001b[0;34m,\u001b[0m \u001b[0mcreate_graph\u001b[0m\u001b[0;34m)\u001b[0m\u001b[0;34m\u001b[0m\u001b[0;34m\u001b[0m\u001b[0m\n\u001b[0m\u001b[1;32m    222\u001b[0m \u001b[0;34m\u001b[0m\u001b[0m\n\u001b[1;32m    223\u001b[0m     \u001b[0;32mdef\u001b[0m \u001b[0mregister_hook\u001b[0m\u001b[0;34m(\u001b[0m\u001b[0mself\u001b[0m\u001b[0;34m,\u001b[0m \u001b[0mhook\u001b[0m\u001b[0;34m)\u001b[0m\u001b[0;34m:\u001b[0m\u001b[0;34m\u001b[0m\u001b[0;34m\u001b[0m\u001b[0m\n",
            "\u001b[0;32m/opt/conda/lib/python3.7/site-packages/torch/autograd/__init__.py\u001b[0m in \u001b[0;36mbackward\u001b[0;34m(tensors, grad_tensors, retain_graph, create_graph, grad_variables)\u001b[0m\n\u001b[1;32m    130\u001b[0m     Variable._execution_engine.run_backward(\n\u001b[1;32m    131\u001b[0m         \u001b[0mtensors\u001b[0m\u001b[0;34m,\u001b[0m \u001b[0mgrad_tensors_\u001b[0m\u001b[0;34m,\u001b[0m \u001b[0mretain_graph\u001b[0m\u001b[0;34m,\u001b[0m \u001b[0mcreate_graph\u001b[0m\u001b[0;34m,\u001b[0m\u001b[0;34m\u001b[0m\u001b[0;34m\u001b[0m\u001b[0m\n\u001b[0;32m--> 132\u001b[0;31m         allow_unreachable=True)  # allow_unreachable flag\n\u001b[0m\u001b[1;32m    133\u001b[0m \u001b[0;34m\u001b[0m\u001b[0m\n\u001b[1;32m    134\u001b[0m \u001b[0;34m\u001b[0m\u001b[0m\n",
            "\u001b[0;31mKeyboardInterrupt\u001b[0m: "
          ]
        }
      ]
    },
    {
      "cell_type": "code",
      "metadata": {
        "execution": {
          "iopub.status.busy": "2021-07-30T18:32:00.870647Z",
          "iopub.execute_input": "2021-07-30T18:32:00.871033Z",
          "iopub.status.idle": "2021-07-30T18:32:00.878071Z",
          "shell.execute_reply.started": "2021-07-30T18:32:00.870995Z",
          "shell.execute_reply": "2021-07-30T18:32:00.8769Z"
        },
        "trusted": true,
        "id": "MWlsMLgpzbR3"
      },
      "source": [
        "training_stats"
      ],
      "execution_count": null,
      "outputs": []
    },
    {
      "cell_type": "code",
      "metadata": {
        "execution": {
          "iopub.status.busy": "2021-07-31T03:03:26.300477Z",
          "iopub.execute_input": "2021-07-31T03:03:26.300843Z",
          "iopub.status.idle": "2021-07-31T03:03:26.305382Z",
          "shell.execute_reply.started": "2021-07-31T03:03:26.300814Z",
          "shell.execute_reply": "2021-07-31T03:03:26.304209Z"
        },
        "trusted": true,
        "id": "ah3fJ8KkzbR4"
      },
      "source": [
        "import IPython"
      ],
      "execution_count": null,
      "outputs": []
    },
    {
      "cell_type": "code",
      "metadata": {
        "execution": {
          "iopub.status.busy": "2021-07-31T03:01:42.821180Z",
          "iopub.execute_input": "2021-07-31T03:01:42.821590Z",
          "iopub.status.idle": "2021-07-31T03:01:53.470914Z",
          "shell.execute_reply.started": "2021-07-31T03:01:42.821557Z",
          "shell.execute_reply": "2021-07-31T03:01:53.469873Z"
        },
        "trusted": true,
        "id": "aoXparSFzbR4",
        "outputId": "c6ca6e6a-4b58-4b18-801c-2b9f7bea8dfc"
      },
      "source": [
        "!pip install --upgrade IPython"
      ],
      "execution_count": null,
      "outputs": [
        {
          "output_type": "stream",
          "text": [
            "Requirement already satisfied: IPython in /opt/conda/lib/python3.7/site-packages (7.24.1)\n",
            "Collecting IPython\n",
            "  Downloading ipython-7.25.0-py3-none-any.whl (786 kB)\n",
            "\u001b[K     |████████████████████████████████| 786 kB 604 kB/s eta 0:00:01\n",
            "\u001b[?25hRequirement already satisfied: decorator in /opt/conda/lib/python3.7/site-packages (from IPython) (5.0.9)\n",
            "Requirement already satisfied: setuptools>=18.5 in /opt/conda/lib/python3.7/site-packages (from IPython) (49.6.0.post20210108)\n",
            "Requirement already satisfied: backcall in /opt/conda/lib/python3.7/site-packages (from IPython) (0.2.0)\n",
            "Requirement already satisfied: traitlets>=4.2 in /opt/conda/lib/python3.7/site-packages (from IPython) (5.0.5)\n",
            "Requirement already satisfied: pickleshare in /opt/conda/lib/python3.7/site-packages (from IPython) (0.7.5)\n",
            "Requirement already satisfied: pygments in /opt/conda/lib/python3.7/site-packages (from IPython) (2.9.0)\n",
            "Requirement already satisfied: matplotlib-inline in /opt/conda/lib/python3.7/site-packages (from IPython) (0.1.2)\n",
            "Requirement already satisfied: prompt-toolkit!=3.0.0,!=3.0.1,<3.1.0,>=2.0.0 in /opt/conda/lib/python3.7/site-packages (from IPython) (3.0.19)\n",
            "Requirement already satisfied: jedi>=0.16 in /opt/conda/lib/python3.7/site-packages (from IPython) (0.18.0)\n",
            "Requirement already satisfied: pexpect>4.3 in /opt/conda/lib/python3.7/site-packages (from IPython) (4.8.0)\n",
            "Requirement already satisfied: parso<0.9.0,>=0.8.0 in /opt/conda/lib/python3.7/site-packages (from jedi>=0.16->IPython) (0.8.2)\n",
            "Requirement already satisfied: ptyprocess>=0.5 in /opt/conda/lib/python3.7/site-packages (from pexpect>4.3->IPython) (0.7.0)\n",
            "Requirement already satisfied: wcwidth in /opt/conda/lib/python3.7/site-packages (from prompt-toolkit!=3.0.0,!=3.0.1,<3.1.0,>=2.0.0->IPython) (0.2.5)\n",
            "Requirement already satisfied: ipython-genutils in /opt/conda/lib/python3.7/site-packages (from traitlets>=4.2->IPython) (0.2.0)\n",
            "Installing collected packages: IPython\n",
            "  Attempting uninstall: IPython\n",
            "    Found existing installation: ipython 7.24.1\n",
            "    Uninstalling ipython-7.24.1:\n",
            "      Successfully uninstalled ipython-7.24.1\n",
            "Successfully installed IPython-7.25.0\n",
            "\u001b[33mWARNING: Running pip as root will break packages and permissions. You should install packages reliably by using venv: https://pip.pypa.io/warnings/venv\u001b[0m\n"
          ],
          "name": "stdout"
        }
      ]
    },
    {
      "cell_type": "code",
      "metadata": {
        "execution": {
          "iopub.status.busy": "2021-07-31T03:03:46.485100Z",
          "iopub.execute_input": "2021-07-31T03:03:46.485438Z",
          "iopub.status.idle": "2021-07-31T03:03:46.490043Z",
          "shell.execute_reply.started": "2021-07-31T03:03:46.485407Z",
          "shell.execute_reply": "2021-07-31T03:03:46.489206Z"
        },
        "trusted": true,
        "id": "yzbOWf54zbR5"
      },
      "source": [
        "from IPython import display"
      ],
      "execution_count": null,
      "outputs": []
    },
    {
      "cell_type": "code",
      "metadata": {
        "execution": {
          "iopub.status.busy": "2021-07-31T03:04:15.180043Z",
          "iopub.execute_input": "2021-07-31T03:04:15.180388Z",
          "iopub.status.idle": "2021-07-31T03:04:15.186188Z",
          "shell.execute_reply.started": "2021-07-31T03:04:15.180356Z",
          "shell.execute_reply": "2021-07-31T03:04:15.185236Z"
        },
        "trusted": true,
        "id": "yrAbQyH5zbR5",
        "outputId": "173c1a65-4aab-407a-fa92-d072a3aa7141"
      },
      "source": [
        "display.FileLink(r'checkpoint.pt')"
      ],
      "execution_count": null,
      "outputs": [
        {
          "output_type": "execute_result",
          "data": {
            "text/plain": [
              "/kaggle/working/checkpoint.pt"
            ],
            "text/html": [
              "<a href='checkpoint.pt' target='_blank'>checkpoint.pt</a><br>"
            ]
          },
          "metadata": {
            "tags": []
          },
          "execution_count": 29
        }
      ]
    },
    {
      "cell_type": "code",
      "metadata": {
        "id": "IQHxYm8szbR6"
      },
      "source": [
        ""
      ],
      "execution_count": null,
      "outputs": []
    }
  ]
}